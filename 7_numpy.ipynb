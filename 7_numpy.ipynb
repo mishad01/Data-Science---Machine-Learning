{
  "nbformat": 4,
  "nbformat_minor": 0,
  "metadata": {
    "colab": {
      "provenance": [],
      "authorship_tag": "ABX9TyMGLgP6+tuzxVj81EFl8WDa",
      "include_colab_link": true
    },
    "kernelspec": {
      "name": "python3",
      "display_name": "Python 3"
    },
    "language_info": {
      "name": "python"
    }
  },
  "cells": [
    {
      "cell_type": "markdown",
      "metadata": {
        "id": "view-in-github",
        "colab_type": "text"
      },
      "source": [
        "<a href=\"https://colab.research.google.com/github/mishad01/Data-Science-Machine-Learning/blob/main/7_numpy.ipynb\" target=\"_parent\"><img src=\"https://colab.research.google.com/assets/colab-badge.svg\" alt=\"Open In Colab\"/></a>"
      ]
    },
    {
      "cell_type": "code",
      "execution_count": 1,
      "metadata": {
        "colab": {
          "base_uri": "https://localhost:8080/"
        },
        "id": "9XVf5ZL4XKRG",
        "outputId": "7ad7118c-b963-4da7-9e25-cbe7e35b001e"
      },
      "outputs": [
        {
          "output_type": "stream",
          "name": "stdout",
          "text": [
            "[0, 1, 2]\n"
          ]
        },
        {
          "output_type": "execute_result",
          "data": {
            "text/plain": [
              "array([0, 1, 2])"
            ]
          },
          "metadata": {},
          "execution_count": 1
        }
      ],
      "source": [
        "#Array\n",
        "import numpy as np\n",
        "list = [0, 1, 2]\n",
        "print(list)\n",
        "array = np.array(list)\n",
        "array\n"
      ]
    },
    {
      "cell_type": "code",
      "source": [
        "#List to 2D Array\n",
        "list = [[1,2,3],[4,5,6]]\n",
        "list\n",
        "array_2d_matrix = np.array(list)\n",
        "print(array_2d_matrix)"
      ],
      "metadata": {
        "colab": {
          "base_uri": "https://localhost:8080/"
        },
        "id": "QYuGhwVRX4Ci",
        "outputId": "704adb33-5102-4f0f-f2b9-3e05b57b864a"
      },
      "execution_count": 2,
      "outputs": [
        {
          "output_type": "stream",
          "name": "stdout",
          "text": [
            "[[1 2 3]\n",
            " [4 5 6]]\n"
          ]
        }
      ]
    },
    {
      "cell_type": "code",
      "source": [
        "#Tuple to Array\n",
        "my_tuple = (-1,0,1)\n",
        "my_array = np.array(my_tuple)\n",
        "my_array\n"
      ],
      "metadata": {
        "colab": {
          "base_uri": "https://localhost:8080/"
        },
        "id": "7E6Z_GnYX6KF",
        "outputId": "26b7f1d4-512a-4736-a955-5334abd9323c"
      },
      "execution_count": 3,
      "outputs": [
        {
          "output_type": "execute_result",
          "data": {
            "text/plain": [
              "array([-1,  0,  1])"
            ]
          },
          "metadata": {},
          "execution_count": 3
        }
      ]
    },
    {
      "cell_type": "markdown",
      "source": [
        "#ARRAY CREATION USING Numpy's Built In Methods\n"
      ],
      "metadata": {
        "id": "aqRBGGU7YtWV"
      }
    },
    {
      "cell_type": "markdown",
      "source": [
        "#linespace()\n",
        "1.   Return evenly spaced numbers over a specified interval..\n",
        "2.   Return evenly spaced numbers over a specified interval..\n",
        "\n",
        "\n"
      ],
      "metadata": {
        "id": "JdquXmz-ZWck"
      }
    },
    {
      "cell_type": "markdown",
      "source": [
        "np.linspace(start, stop, num=50, endpoint=True, retstep=False, dtype=None)\n",
        "1. start: The starting value of the sequence.\n",
        "2. stop: The ending value of the sequence.\n",
        "3. num: The number of evenly spaced values to generate (default is 50).\n",
        "4. endpoint: If True (default), the stop value is included in the sequence. If False, the sequence ends just before stop.\n",
        "5. retstep: If True, it also returns the spacing (step) between consecutive 7.  numbers in the array.\n",
        "6. dtype: The data type of the output array (optional)."
      ],
      "metadata": {
        "id": "TYCGL7oIcQaX"
      }
    },
    {
      "cell_type": "code",
      "source": [
        "#linespace() => Return evenly spaced numbers over a specified interval.\n",
        "import numpy as np\n",
        "np.linspace(0,10,3)"
      ],
      "metadata": {
        "colab": {
          "base_uri": "https://localhost:8080/"
        },
        "id": "otfZN7OWY5xp",
        "outputId": "4abb69d4-0a7a-4c33-b17c-6bc2975da035"
      },
      "execution_count": 16,
      "outputs": [
        {
          "output_type": "execute_result",
          "data": {
            "text/plain": [
              "array([ 0.,  5., 10.])"
            ]
          },
          "metadata": {},
          "execution_count": 16
        }
      ]
    },
    {
      "cell_type": "code",
      "source": [
        "np.linspace(1,2,10) # 1-D array"
      ],
      "metadata": {
        "colab": {
          "base_uri": "https://localhost:8080/"
        },
        "id": "oC-WqunWZO9u",
        "outputId": "d54bf3ff-b4fa-4a19-d4c9-8292d40d2aea"
      },
      "execution_count": 14,
      "outputs": [
        {
          "output_type": "execute_result",
          "data": {
            "text/plain": [
              "array([1.        , 1.11111111, 1.22222222, 1.33333333, 1.44444444,\n",
              "       1.55555556, 1.66666667, 1.77777778, 1.88888889, 2.        ])"
            ]
          },
          "metadata": {},
          "execution_count": 14
        }
      ]
    },
    {
      "cell_type": "markdown",
      "source": [
        "#arrange()"
      ],
      "metadata": {
        "id": "E0t3UtfZZi5w"
      }
    },
    {
      "cell_type": "code",
      "source": [
        "import numpy as np\n",
        "my_arange = np.arange(1, 2, 0.1)\n",
        "my_arange"
      ],
      "metadata": {
        "colab": {
          "base_uri": "https://localhost:8080/"
        },
        "id": "xOiu8SJxZxk8",
        "outputId": "b1c1b21b-a66a-4576-9c7c-c6bcf820ffc1"
      },
      "execution_count": 12,
      "outputs": [
        {
          "output_type": "execute_result",
          "data": {
            "text/plain": [
              "array([1. , 1.1, 1.2, 1.3, 1.4, 1.5, 1.6, 1.7, 1.8, 1.9])"
            ]
          },
          "metadata": {},
          "execution_count": 12
        }
      ]
    }
  ]
}