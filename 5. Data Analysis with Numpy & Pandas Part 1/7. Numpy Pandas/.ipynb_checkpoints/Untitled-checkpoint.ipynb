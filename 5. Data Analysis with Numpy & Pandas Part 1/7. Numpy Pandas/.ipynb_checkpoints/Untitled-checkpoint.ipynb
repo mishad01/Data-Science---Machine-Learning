{
 "cells": [
  {
   "cell_type": "code",
   "execution_count": 1,
   "id": "5359a974-3950-4280-9c24-08847f8fe055",
   "metadata": {},
   "outputs": [
    {
     "name": "stdout",
     "output_type": "stream",
     "text": [
      "Hello World\n"
     ]
    }
   ],
   "source": [
    "print(\"Hello World\")"
   ]
  },
  {
   "cell_type": "code",
   "execution_count": 15,
   "id": "777fb047-4b8f-419e-98ac-b6710c636411",
   "metadata": {},
   "outputs": [
    {
     "name": "stdout",
     "output_type": "stream",
     "text": [
      "[0, 1, 2]\n"
     ]
    },
    {
     "data": {
      "text/plain": [
       "array([0, 1, 2])"
      ]
     },
     "execution_count": 15,
     "metadata": {},
     "output_type": "execute_result"
    }
   ],
   "source": [
    "#Array\n",
    "import numpy as np\n",
    "list = [0, 1, 2]\n",
    "print(list)\n",
    "array = np.array(list)\n",
    "array\n",
    "\n"
   ]
  },
  {
   "cell_type": "code",
   "execution_count": 22,
   "id": "e3375e79-636c-4101-8a33-af7d982951c1",
   "metadata": {},
   "outputs": [
    {
     "data": {
      "text/plain": [
       "array([[1, 2, 3],\n",
       "       [4, 5, 6]])"
      ]
     },
     "execution_count": 22,
     "metadata": {},
     "output_type": "execute_result"
    }
   ],
   "source": [
    "#List to 2D array\n",
    "list = [[1,2,3],[4,5,6]]\n",
    "list\n",
    "array_2d_matrix = np.array(list)\n",
    "array_2d_matrix"
   ]
  },
  {
   "cell_type": "code",
   "execution_count": null,
   "id": "dfd1928e-4bc7-4c94-b6c9-2094c974059d",
   "metadata": {},
   "outputs": [],
   "source": []
  }
 ],
 "metadata": {
  "kernelspec": {
   "display_name": "Python 3 (ipykernel)",
   "language": "python",
   "name": "python3"
  },
  "language_info": {
   "codemirror_mode": {
    "name": "ipython",
    "version": 3
   },
   "file_extension": ".py",
   "mimetype": "text/x-python",
   "name": "python",
   "nbconvert_exporter": "python",
   "pygments_lexer": "ipython3",
   "version": "3.12.7"
  }
 },
 "nbformat": 4,
 "nbformat_minor": 5
}
