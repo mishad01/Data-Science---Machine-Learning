{
  "nbformat": 4,
  "nbformat_minor": 0,
  "metadata": {
    "colab": {
      "provenance": [],
      "authorship_tag": "ABX9TyPtnwhQ6i5KEpyKL6lhmW52",
      "include_colab_link": true
    },
    "kernelspec": {
      "name": "python3",
      "display_name": "Python 3"
    },
    "language_info": {
      "name": "python"
    }
  },
  "cells": [
    {
      "cell_type": "markdown",
      "metadata": {
        "id": "view-in-github",
        "colab_type": "text"
      },
      "source": [
        "<a href=\"https://colab.research.google.com/github/mishad01/Data-Science-Machine-Learning/blob/main/7_numpy.ipynb\" target=\"_parent\"><img src=\"https://colab.research.google.com/assets/colab-badge.svg\" alt=\"Open In Colab\"/></a>"
      ]
    },
    {
      "cell_type": "code",
      "execution_count": null,
      "metadata": {
        "colab": {
          "base_uri": "https://localhost:8080/"
        },
        "id": "9XVf5ZL4XKRG",
        "outputId": "7ad7118c-b963-4da7-9e25-cbe7e35b001e"
      },
      "outputs": [
        {
          "output_type": "stream",
          "name": "stdout",
          "text": [
            "[0, 1, 2]\n"
          ]
        },
        {
          "output_type": "execute_result",
          "data": {
            "text/plain": [
              "array([0, 1, 2])"
            ]
          },
          "metadata": {},
          "execution_count": 1
        }
      ],
      "source": [
        "#Array\n",
        "import numpy as np\n",
        "list = [0, 1, 2]\n",
        "print(list)\n",
        "array = np.array(list)\n",
        "array\n"
      ]
    },
    {
      "cell_type": "code",
      "source": [
        "#List to 2D Array\n",
        "list = [[1,2,3],[4,5,6]]\n",
        "list\n",
        "array_2d_matrix = np.array(list)\n",
        "print(array_2d_matrix)"
      ],
      "metadata": {
        "colab": {
          "base_uri": "https://localhost:8080/"
        },
        "id": "QYuGhwVRX4Ci",
        "outputId": "704adb33-5102-4f0f-f2b9-3e05b57b864a"
      },
      "execution_count": null,
      "outputs": [
        {
          "output_type": "stream",
          "name": "stdout",
          "text": [
            "[[1 2 3]\n",
            " [4 5 6]]\n"
          ]
        }
      ]
    },
    {
      "cell_type": "code",
      "source": [
        "#Tuple to Array\n",
        "my_tuple = (-1,0,1)\n",
        "my_array = np.array(my_tuple)\n",
        "my_array\n"
      ],
      "metadata": {
        "colab": {
          "base_uri": "https://localhost:8080/"
        },
        "id": "7E6Z_GnYX6KF",
        "outputId": "26b7f1d4-512a-4736-a955-5334abd9323c"
      },
      "execution_count": null,
      "outputs": [
        {
          "output_type": "execute_result",
          "data": {
            "text/plain": [
              "array([-1,  0,  1])"
            ]
          },
          "metadata": {},
          "execution_count": 3
        }
      ]
    },
    {
      "cell_type": "markdown",
      "source": [
        "#ARRAY CREATION USING Numpy's Built In Methods\n"
      ],
      "metadata": {
        "id": "aqRBGGU7YtWV"
      }
    },
    {
      "cell_type": "markdown",
      "source": [
        "#arrange()\n",
        "#Parameters:\n",
        "1. Start (1):\n",
        "This is the starting value of the sequence. The first number in the generated array will be 1.\n",
        "\n",
        "2. Stop (2):\n",
        "This is the end value of the sequence. However, it is exclusive, meaning 2 is not included in the generated array.\n",
        "\n",
        "3. Step (0.1):\n",
        "This is the spacing between consecutive values in the sequence. In this case, each number in the array is 0.1 greater than the previous number."
      ],
      "metadata": {
        "id": "E0t3UtfZZi5w"
      }
    },
    {
      "cell_type": "code",
      "source": [
        "num = np.arange(10)\n",
        "num"
      ],
      "metadata": {
        "colab": {
          "base_uri": "https://localhost:8080/"
        },
        "id": "RXdrXpAxt3rN",
        "outputId": "4c28a27e-d48a-4629-d0f7-bf23fc4a821b"
      },
      "execution_count": null,
      "outputs": [
        {
          "output_type": "execute_result",
          "data": {
            "text/plain": [
              "array([0, 1, 2, 3, 4, 5, 6, 7, 8, 9])"
            ]
          },
          "metadata": {},
          "execution_count": 6
        }
      ]
    },
    {
      "cell_type": "code",
      "source": [
        "#we can give steps also\n",
        "np.arange(3,10,2)\n"
      ],
      "metadata": {
        "colab": {
          "base_uri": "https://localhost:8080/"
        },
        "id": "OiRnPBktuLT_",
        "outputId": "a0224538-1756-420a-eced-95a42a0bf5fe"
      },
      "execution_count": null,
      "outputs": [
        {
          "output_type": "execute_result",
          "data": {
            "text/plain": [
              "array([3, 5, 7, 9])"
            ]
          },
          "metadata": {},
          "execution_count": 7
        }
      ]
    },
    {
      "cell_type": "code",
      "source": [
        "import numpy as np\n",
        "my_arange = np.arange(1, 2, 0.1)\n",
        "my_arange\n"
      ],
      "metadata": {
        "colab": {
          "base_uri": "https://localhost:8080/"
        },
        "id": "xOiu8SJxZxk8",
        "outputId": "8dc49d42-461f-4057-f875-8f1ce07c536f"
      },
      "execution_count": null,
      "outputs": [
        {
          "output_type": "execute_result",
          "data": {
            "text/plain": [
              "array([1. , 1.1, 1.2, 1.3, 1.4, 1.5, 1.6, 1.7, 1.8, 1.9])"
            ]
          },
          "metadata": {},
          "execution_count": 3
        }
      ]
    },
    {
      "cell_type": "code",
      "source": [
        "np.arange(0,10,2.1, dtype= float)"
      ],
      "metadata": {
        "colab": {
          "base_uri": "https://localhost:8080/"
        },
        "id": "PiMfyGY-ud--",
        "outputId": "fbe81f5d-349c-4a51-d411-2dd139784dd6"
      },
      "execution_count": null,
      "outputs": [
        {
          "output_type": "execute_result",
          "data": {
            "text/plain": [
              "array([0. , 2.1, 4.2, 6.3, 8.4])"
            ]
          },
          "metadata": {},
          "execution_count": 10
        }
      ]
    },
    {
      "cell_type": "code",
      "source": [
        "x = np.arange(1, 2, 0.1)\n",
        "print(x.shape) #length basically\n",
        "#The array has 10 elements. Since it is 1-dimensional, its shape is represented as a tuple with one value:"
      ],
      "metadata": {
        "colab": {
          "base_uri": "https://localhost:8080/"
        },
        "id": "m2kQCA-iehGK",
        "outputId": "43562fd7-5862-4cbd-84fd-2c837ec758a4"
      },
      "execution_count": null,
      "outputs": [
        {
          "output_type": "stream",
          "name": "stdout",
          "text": [
            "(10,)\n"
          ]
        }
      ]
    },
    {
      "cell_type": "markdown",
      "source": [
        "#x.shape == length"
      ],
      "metadata": {
        "id": "nheUQVl59vNO"
      }
    },
    {
      "cell_type": "code",
      "source": [
        "x = np.arange(0,16)\n",
        "x.shape\n"
      ],
      "metadata": {
        "colab": {
          "base_uri": "https://localhost:8080/"
        },
        "id": "KY8Iil5S8mUV",
        "outputId": "da99bf66-64ff-4ddd-eabc-1afed23a9e60"
      },
      "execution_count": null,
      "outputs": [
        {
          "output_type": "execute_result",
          "data": {
            "text/plain": [
              "(16,)"
            ]
          },
          "metadata": {},
          "execution_count": 22
        }
      ]
    },
    {
      "cell_type": "markdown",
      "source": [
        "#reshape -> makes dimension, basically kinda creates matrix"
      ],
      "metadata": {
        "id": "uveTFUOS93qY"
      }
    },
    {
      "cell_type": "code",
      "source": [
        "x.reshape(4,4)"
      ],
      "metadata": {
        "colab": {
          "base_uri": "https://localhost:8080/"
        },
        "id": "LX-Kfln--gr8",
        "outputId": "1325eb53-fca1-44ac-bbe5-73d775d9d504"
      },
      "execution_count": null,
      "outputs": [
        {
          "output_type": "execute_result",
          "data": {
            "text/plain": [
              "array([[ 0,  1,  2,  3],\n",
              "       [ 4,  5,  6,  7],\n",
              "       [ 8,  9, 10, 11],\n",
              "       [12, 13, 14, 15]])"
            ]
          },
          "metadata": {},
          "execution_count": 31
        }
      ]
    },
    {
      "cell_type": "code",
      "source": [
        "x.reshape(2,8)"
      ],
      "metadata": {
        "colab": {
          "base_uri": "https://localhost:8080/"
        },
        "id": "HcDhFcbyFh1B",
        "outputId": "4127f7a2-cc17-4a87-e1a4-e269fbbd1162"
      },
      "execution_count": null,
      "outputs": [
        {
          "output_type": "execute_result",
          "data": {
            "text/plain": [
              "array([[ 0,  1,  2,  3,  4,  5,  6,  7],\n",
              "       [ 8,  9, 10, 11, 12, 13, 14, 15]])"
            ]
          },
          "metadata": {},
          "execution_count": 32
        }
      ]
    },
    {
      "cell_type": "code",
      "source": [
        "x.reshape(8,2)"
      ],
      "metadata": {
        "colab": {
          "base_uri": "https://localhost:8080/"
        },
        "id": "7uv0eR--Fp39",
        "outputId": "49a9b0ab-2490-4de8-f560-6c2ab0bbe97c"
      },
      "execution_count": null,
      "outputs": [
        {
          "output_type": "execute_result",
          "data": {
            "text/plain": [
              "array([[ 0,  1],\n",
              "       [ 2,  3],\n",
              "       [ 4,  5],\n",
              "       [ 6,  7],\n",
              "       [ 8,  9],\n",
              "       [10, 11],\n",
              "       [12, 13],\n",
              "       [14, 15]])"
            ]
          },
          "metadata": {},
          "execution_count": 39
        }
      ]
    },
    {
      "cell_type": "code",
      "source": [
        "x"
      ],
      "metadata": {
        "colab": {
          "base_uri": "https://localhost:8080/"
        },
        "id": "msAMhOH4F_kg",
        "outputId": "084509fb-4cc5-4c29-c9b7-e11414e57a8b"
      },
      "execution_count": null,
      "outputs": [
        {
          "output_type": "execute_result",
          "data": {
            "text/plain": [
              "array([[ 0,  1],\n",
              "       [ 2,  3],\n",
              "       [ 4,  5],\n",
              "       [ 6,  7],\n",
              "       [ 8,  9],\n",
              "       [10, 11],\n",
              "       [12, 13],\n",
              "       [14, 15]])"
            ]
          },
          "metadata": {},
          "execution_count": 40
        }
      ]
    },
    {
      "cell_type": "markdown",
      "source": [
        "# Breaking it down:\n",
        "Original Shape of x:\n",
        "\n",
        "If x is a 1-dimensional array with 4 * 2 * 2 = 16 elements, you can reshape it into a 3-dimensional array with shape (4, 2, 2).\n",
        "Understanding Dimensions:\n",
        "\n",
        "The target shape (4, 2, 2) means:\n",
        "4 blocks of size (2, 2)\n",
        "Each block has 2 rows and 2 columns.\n",
        "Conditions for Reshaping:\n",
        "\n",
        "The total number of elements in x must match the total number of elements in the target shape.\n",
        "In this case:\n",
        "4\n",
        "×\n",
        "2\n",
        "×\n",
        "2\n",
        "=\n",
        "16\n",
        "4×2×2=16, so x must have exactly 16 elements."
      ],
      "metadata": {
        "id": "R7y4vqqTGjUP"
      }
    },
    {
      "cell_type": "code",
      "source": [
        "y = x.reshape(4,2,2) #here 4 is number of matrix and 2,2 is matrix\n",
        "y"
      ],
      "metadata": {
        "colab": {
          "base_uri": "https://localhost:8080/"
        },
        "id": "HnxEPGkmGHe3",
        "outputId": "a7aba163-8fe0-4cdd-9e39-e063cb6ec417"
      },
      "execution_count": 46,
      "outputs": [
        {
          "output_type": "execute_result",
          "data": {
            "text/plain": [
              "array([[[ 0,  1],\n",
              "        [ 2,  3]],\n",
              "\n",
              "       [[ 4,  5],\n",
              "        [ 6,  7]],\n",
              "\n",
              "       [[ 8,  9],\n",
              "        [10, 11]],\n",
              "\n",
              "       [[12, 13],\n",
              "        [14, 15]]])"
            ]
          },
          "metadata": {},
          "execution_count": 46
        }
      ]
    },
    {
      "cell_type": "code",
      "source": [
        "y.shape"
      ],
      "metadata": {
        "colab": {
          "base_uri": "https://localhost:8080/"
        },
        "id": "-wgNbQp1JPji",
        "outputId": "ed820202-ac07-48cc-f5a6-a61cf01f4cc4"
      },
      "execution_count": 47,
      "outputs": [
        {
          "output_type": "execute_result",
          "data": {
            "text/plain": [
              "(4, 2, 2)"
            ]
          },
          "metadata": {},
          "execution_count": 47
        }
      ]
    },
    {
      "cell_type": "markdown",
      "source": [
        "#When there is () , it will be function. Otherwise it will be attributes"
      ],
      "metadata": {
        "id": "8qK43RSNJqV1"
      }
    },
    {
      "cell_type": "markdown",
      "source": [
        "#linespace()\n",
        "1.   Return evenly spaced numbers over a specified interval..\n",
        "2.   Return evenly spaced numbers over a specified interval..\n",
        "#What linespace does is it divides a number. For an example linspace(0,10,4) = > 0., 3.33333333, 6.66666667,10.  \n",
        "\n",
        "#Here from 0 to 10, 10 is divided into 4 parts\n"
      ],
      "metadata": {
        "id": "JdquXmz-ZWck"
      }
    },
    {
      "cell_type": "markdown",
      "source": [
        "np.linspace(start, stop, num=50, endpoint=True, retstep=False, dtype=None)\n",
        "1. start: The starting value of the sequence.\n",
        "2. stop: The ending value of the sequence.\n",
        "3. num: The number of evenly spaced values to generate (default is 50).\n",
        "4. endpoint: If True (default), the stop value is included in the sequence. If False, the sequence ends just before stop.\n",
        "5. retstep: If True, it also returns the spacing (step) between consecutive 7.  numbers in the array.\n",
        "6. dtype: The data type of the output array (optional)."
      ],
      "metadata": {
        "id": "TYCGL7oIcQaX"
      }
    },
    {
      "cell_type": "code",
      "source": [
        "#linespace() => Return evenly spaced numbers over a specified interval.\n",
        "\n",
        "import numpy as np\n",
        "np.linspace(1,10,4)"
      ],
      "metadata": {
        "colab": {
          "base_uri": "https://localhost:8080/"
        },
        "id": "otfZN7OWY5xp",
        "outputId": "3db955fd-0b3e-4b2a-cae7-f8d067d39e02"
      },
      "execution_count": null,
      "outputs": [
        {
          "output_type": "execute_result",
          "data": {
            "text/plain": [
              "array([ 1.,  4.,  7., 10.])"
            ]
          },
          "metadata": {},
          "execution_count": 13
        }
      ]
    },
    {
      "cell_type": "code",
      "source": [
        "np.linspace(1,2,10) # 1-D array"
      ],
      "metadata": {
        "colab": {
          "base_uri": "https://localhost:8080/"
        },
        "id": "oC-WqunWZO9u",
        "outputId": "d54bf3ff-b4fa-4a19-d4c9-8292d40d2aea"
      },
      "execution_count": null,
      "outputs": [
        {
          "output_type": "execute_result",
          "data": {
            "text/plain": [
              "array([1.        , 1.11111111, 1.22222222, 1.33333333, 1.44444444,\n",
              "       1.55555556, 1.66666667, 1.77777778, 1.88888889, 2.        ])"
            ]
          },
          "metadata": {},
          "execution_count": 14
        }
      ]
    },
    {
      "cell_type": "code",
      "source": [
        "x =  [[1,2,3],[4,5,6]]\n",
        "np.array(x)"
      ],
      "metadata": {
        "colab": {
          "base_uri": "https://localhost:8080/"
        },
        "id": "sS0smXUE8Goa",
        "outputId": "87987356-7821-4d94-e320-03000be73bd1"
      },
      "execution_count": null,
      "outputs": [
        {
          "output_type": "execute_result",
          "data": {
            "text/plain": [
              "array([[1, 2, 3],\n",
              "       [4, 5, 6]])"
            ]
          },
          "metadata": {},
          "execution_count": 14
        }
      ]
    },
    {
      "cell_type": "code",
      "source": [],
      "metadata": {
        "id": "wx6pu8UhJ3j8"
      },
      "execution_count": null,
      "outputs": []
    },
    {
      "cell_type": "markdown",
      "source": [
        "#Random\n",
        "We can also create arrays with random numbers using Numpy's built-in functions in Random module.\n",
        "np.random. and then press tab for the options with random"
      ],
      "metadata": {
        "id": "_F4c65XGJ3yZ"
      }
    },
    {
      "cell_type": "markdown",
      "source": [
        "#rand()"
      ],
      "metadata": {
        "id": "UEqiw_IEKoP1"
      }
    },
    {
      "cell_type": "code",
      "source": [
        "np.random.rand(4) #1-D array with 3 (n-1) elements"
      ],
      "metadata": {
        "colab": {
          "base_uri": "https://localhost:8080/"
        },
        "id": "u3DraJbiJ8y8",
        "outputId": "71245347-dc1e-4951-9494-67c6311c65ff"
      },
      "execution_count": 48,
      "outputs": [
        {
          "output_type": "execute_result",
          "data": {
            "text/plain": [
              "array([0.79821178, 0.110919  , 0.09623603, 0.47029759, 0.81971694])"
            ]
          },
          "metadata": {},
          "execution_count": 48
        }
      ]
    },
    {
      "cell_type": "code",
      "source": [
        "np.random.rand(2,2) #row,col based random values"
      ],
      "metadata": {
        "colab": {
          "base_uri": "https://localhost:8080/"
        },
        "id": "c-6S2SDqJ_G-",
        "outputId": "cd024fb4-7d91-4302-e2dc-837c38265606"
      },
      "execution_count": 51,
      "outputs": [
        {
          "output_type": "execute_result",
          "data": {
            "text/plain": [
              "array([[0.43435358, 0.65717478],\n",
              "       [0.57824889, 0.3187728 ]])"
            ]
          },
          "metadata": {},
          "execution_count": 51
        }
      ]
    },
    {
      "cell_type": "markdown",
      "source": [
        "#randnint()"
      ],
      "metadata": {
        "id": "DJY0MyRzLAUU"
      }
    },
    {
      "cell_type": "code",
      "source": [
        "np.random.randint(5,10,10) #np.random.randint(start,begining,number of random number)"
      ],
      "metadata": {
        "colab": {
          "base_uri": "https://localhost:8080/"
        },
        "id": "KTAvtZy0K0gx",
        "outputId": "bb3f1f23-d799-4530-bbca-e8a9da5fbfca"
      },
      "execution_count": 57,
      "outputs": [
        {
          "output_type": "execute_result",
          "data": {
            "text/plain": [
              "array([5, 9, 5, 8, 9, 8, 7, 6, 9, 9])"
            ]
          },
          "metadata": {},
          "execution_count": 57
        }
      ]
    },
    {
      "cell_type": "code",
      "source": [
        "np.random.randint(5,10,10).reshape(2,5) #Dimension"
      ],
      "metadata": {
        "colab": {
          "base_uri": "https://localhost:8080/"
        },
        "id": "77YEV_ZjLzXR",
        "outputId": "e9adcf13-d398-44ba-9c7f-0bcdda211a17"
      },
      "execution_count": 58,
      "outputs": [
        {
          "output_type": "execute_result",
          "data": {
            "text/plain": [
              "array([[9, 7, 9, 6, 8],\n",
              "       [9, 7, 9, 9, 8]])"
            ]
          },
          "metadata": {},
          "execution_count": 58
        }
      ]
    },
    {
      "cell_type": "code",
      "source": [
        "array = np.random.randint(low = 1,high = 10,size = [5,8])\n",
        "array"
      ],
      "metadata": {
        "colab": {
          "base_uri": "https://localhost:8080/"
        },
        "id": "h0IuI6a1MA2H",
        "outputId": "f8867c30-562b-49d1-b103-e02ca2de6e91"
      },
      "execution_count": 59,
      "outputs": [
        {
          "output_type": "execute_result",
          "data": {
            "text/plain": [
              "array([[7, 4, 7, 1, 3, 4, 4, 4],\n",
              "       [8, 6, 1, 8, 9, 9, 9, 2],\n",
              "       [6, 4, 5, 8, 7, 5, 6, 1],\n",
              "       [6, 7, 8, 6, 3, 8, 6, 5],\n",
              "       [2, 5, 2, 4, 6, 4, 8, 3]])"
            ]
          },
          "metadata": {},
          "execution_count": 59
        }
      ]
    },
    {
      "cell_type": "markdown",
      "source": [
        "## Array Methods & Attributes\n",
        "Some important Methods and Attributes are important to know:<br>\n",
        "\n",
        "### Methods:\n",
        "* reshape(), max(), min(), argmax(), argmin()<br>"
      ],
      "metadata": {
        "id": "GoG7SSHWMSG4"
      }
    },
    {
      "cell_type": "code",
      "source": [
        "array_ranInt = np.random.randint(0,100,10)\n",
        "array_ranInt"
      ],
      "metadata": {
        "colab": {
          "base_uri": "https://localhost:8080/"
        },
        "id": "ePPp7ukhK2EX",
        "outputId": "ab3431e8-7ad0-426b-fa1b-5f44d0f835a8"
      },
      "execution_count": 61,
      "outputs": [
        {
          "output_type": "execute_result",
          "data": {
            "text/plain": [
              "array([33, 85, 12, 86, 91, 28, 76, 53, 10,  1])"
            ]
          },
          "metadata": {},
          "execution_count": 61
        }
      ]
    },
    {
      "cell_type": "code",
      "source": [
        "array_ranInt.min()"
      ],
      "metadata": {
        "colab": {
          "base_uri": "https://localhost:8080/"
        },
        "id": "-jbCgqSFM7Vu",
        "outputId": "1973c66c-0be9-4221-8f42-a9a0b65f1ec1"
      },
      "execution_count": 63,
      "outputs": [
        {
          "output_type": "execute_result",
          "data": {
            "text/plain": [
              "1"
            ]
          },
          "metadata": {},
          "execution_count": 63
        }
      ]
    },
    {
      "cell_type": "code",
      "source": [
        "array_ranInt.max()"
      ],
      "metadata": {
        "colab": {
          "base_uri": "https://localhost:8080/"
        },
        "id": "3SEQkxDNNDs2",
        "outputId": "7121e489-60ae-4f8c-aa26-1fe928be56c0"
      },
      "execution_count": 64,
      "outputs": [
        {
          "output_type": "execute_result",
          "data": {
            "text/plain": [
              "91"
            ]
          },
          "metadata": {},
          "execution_count": 64
        }
      ]
    },
    {
      "cell_type": "markdown",
      "source": [
        "# `argmax()` & `argmin()`\n",
        "To find the index locations of max and min values in array"
      ],
      "metadata": {
        "id": "6h4BjPtpNOjX"
      }
    },
    {
      "cell_type": "code",
      "source": [
        "array_ranInt.argmax()"
      ],
      "metadata": {
        "colab": {
          "base_uri": "https://localhost:8080/"
        },
        "id": "3mCGeo5cNT9_",
        "outputId": "a23d7c2e-726d-47f1-a5e6-91164a83554e"
      },
      "execution_count": 65,
      "outputs": [
        {
          "output_type": "execute_result",
          "data": {
            "text/plain": [
              "4"
            ]
          },
          "metadata": {},
          "execution_count": 65
        }
      ]
    },
    {
      "cell_type": "code",
      "source": [
        "array_ranInt.argmin()"
      ],
      "metadata": {
        "colab": {
          "base_uri": "https://localhost:8080/"
        },
        "id": "aP0zSoD3NWyz",
        "outputId": "2ba5da43-ad1b-46eb-d425-317bd0fd01cb"
      },
      "execution_count": 66,
      "outputs": [
        {
          "output_type": "execute_result",
          "data": {
            "text/plain": [
              "9"
            ]
          },
          "metadata": {},
          "execution_count": 66
        }
      ]
    },
    {
      "cell_type": "markdown",
      "source": [
        "### Attributes\n",
        "* `size, shape, dtype`"
      ],
      "metadata": {
        "id": "nAXwdVPwNdDV"
      }
    },
    {
      "cell_type": "code",
      "source": [
        "arr_arange = np.arange(16)\n",
        "arr_arange\n"
      ],
      "metadata": {
        "colab": {
          "base_uri": "https://localhost:8080/"
        },
        "id": "a1MIgiIsNfDr",
        "outputId": "85f18e8e-41b6-495d-9f79-ef446bcba7ad"
      },
      "execution_count": 74,
      "outputs": [
        {
          "output_type": "execute_result",
          "data": {
            "text/plain": [
              "array([ 0,  1,  2,  3,  4,  5,  6,  7,  8,  9, 10, 11, 12, 13, 14, 15])"
            ]
          },
          "metadata": {},
          "execution_count": 74
        }
      ]
    },
    {
      "cell_type": "code",
      "source": [
        "arr_arange.shape"
      ],
      "metadata": {
        "colab": {
          "base_uri": "https://localhost:8080/"
        },
        "id": "Tpq2GektNx6B",
        "outputId": "b5172f52-fa58-4cb4-eae6-12bd992f22a7"
      },
      "execution_count": 73,
      "outputs": [
        {
          "output_type": "execute_result",
          "data": {
            "text/plain": [
              "(16,)"
            ]
          },
          "metadata": {},
          "execution_count": 73
        }
      ]
    },
    {
      "cell_type": "code",
      "source": [
        "arr_arange.size"
      ],
      "metadata": {
        "colab": {
          "base_uri": "https://localhost:8080/"
        },
        "id": "QaycRReuN8w9",
        "outputId": "fcbb8f9d-d215-4e7c-8aa8-16d4f7d07d04"
      },
      "execution_count": 76,
      "outputs": [
        {
          "output_type": "execute_result",
          "data": {
            "text/plain": [
              "16"
            ]
          },
          "metadata": {},
          "execution_count": 76
        }
      ]
    },
    {
      "cell_type": "code",
      "source": [
        "# Size of the array\n",
        "arr_arange.itemsize #byte"
      ],
      "metadata": {
        "colab": {
          "base_uri": "https://localhost:8080/"
        },
        "id": "G7Quoq-vOCZk",
        "outputId": "54bc53f4-989f-4dcd-de1e-6c0e68fa6fd7"
      },
      "execution_count": 78,
      "outputs": [
        {
          "output_type": "execute_result",
          "data": {
            "text/plain": [
              "8"
            ]
          },
          "metadata": {},
          "execution_count": 78
        }
      ]
    },
    {
      "cell_type": "code",
      "source": [
        "arr_arange.dtype"
      ],
      "metadata": {
        "colab": {
          "base_uri": "https://localhost:8080/"
        },
        "id": "BpJh5pH8ONFi",
        "outputId": "0f9b5d1e-97f0-45f9-b83e-9afc0eb3296b"
      },
      "execution_count": 79,
      "outputs": [
        {
          "output_type": "execute_result",
          "data": {
            "text/plain": [
              "dtype('int64')"
            ]
          },
          "metadata": {},
          "execution_count": 79
        }
      ]
    },
    {
      "cell_type": "code",
      "source": [
        "arr_arange.reshape(2,8)"
      ],
      "metadata": {
        "colab": {
          "base_uri": "https://localhost:8080/"
        },
        "id": "kxqKOuIPORNg",
        "outputId": "174324e6-b879-45a8-849f-5420c7f63fe2"
      },
      "execution_count": 83,
      "outputs": [
        {
          "output_type": "execute_result",
          "data": {
            "text/plain": [
              "array([[ 0,  1,  2,  3,  4,  5,  6,  7],\n",
              "       [ 8,  9, 10, 11, 12, 13, 14, 15]])"
            ]
          },
          "metadata": {},
          "execution_count": 83
        }
      ]
    },
    {
      "cell_type": "markdown",
      "source": [
        "###  Indexing & slicing 2-D arrays (matrices)\n",
        "\n",
        "Lets create an array with 24 elements using arange() and convert it to 2D matrix using \"shape\".<br>\n",
        "*note, 6 x 4 = 24*"
      ],
      "metadata": {
        "id": "XbrAv61WOh0G"
      }
    },
    {
      "cell_type": "code",
      "source": [
        "array_2d = np.arange(24)\n",
        "array_2d = array_2d.reshape(6,4)\n",
        "array_2d"
      ],
      "metadata": {
        "colab": {
          "base_uri": "https://localhost:8080/"
        },
        "id": "lgYYyAZ_Ojhb",
        "outputId": "a67a76d4-a87d-4d86-b78b-1e5767626073"
      },
      "execution_count": 84,
      "outputs": [
        {
          "output_type": "execute_result",
          "data": {
            "text/plain": [
              "array([[ 0,  1,  2,  3],\n",
              "       [ 4,  5,  6,  7],\n",
              "       [ 8,  9, 10, 11],\n",
              "       [12, 13, 14, 15],\n",
              "       [16, 17, 18, 19],\n",
              "       [20, 21, 22, 23]])"
            ]
          },
          "metadata": {},
          "execution_count": 84
        }
      ]
    },
    {
      "cell_type": "code",
      "source": [
        "array_ld= np.array([-10,-2, 0, 2, 17, 106,200])\n",
        "array_ld\n",
        "array_ld[1]\n",
        "#Getting range value\n",
        "array_ld[0:3]"
      ],
      "metadata": {
        "colab": {
          "base_uri": "https://localhost:8080/"
        },
        "id": "wZkK0qtcO1_q",
        "outputId": "03cad41b-b3ce-4d7a-bcf1-39f90b79ae0e"
      },
      "execution_count": 89,
      "outputs": [
        {
          "output_type": "execute_result",
          "data": {
            "text/plain": [
              "array([-10,  -2,   0])"
            ]
          },
          "metadata": {},
          "execution_count": 89
        }
      ]
    },
    {
      "cell_type": "code",
      "source": [
        "array_ld[-2] #using -ve index"
      ],
      "metadata": {
        "colab": {
          "base_uri": "https://localhost:8080/"
        },
        "id": "8t7Wl0_FPS7O",
        "outputId": "5752c127-597a-45b7-c49a-f5bd56db8ea3"
      },
      "execution_count": 90,
      "outputs": [
        {
          "output_type": "execute_result",
          "data": {
            "text/plain": [
              "106"
            ]
          },
          "metadata": {},
          "execution_count": 90
        }
      ]
    }
  ]
}