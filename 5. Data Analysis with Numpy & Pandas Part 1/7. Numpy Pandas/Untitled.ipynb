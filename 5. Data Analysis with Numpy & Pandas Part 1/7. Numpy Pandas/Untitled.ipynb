{
 "cells": [
  {
   "cell_type": "code",
   "execution_count": 1,
   "id": "5359a974-3950-4280-9c24-08847f8fe055",
   "metadata": {},
   "outputs": [
    {
     "name": "stdout",
     "output_type": "stream",
     "text": [
      "Hello World\n"
     ]
    }
   ],
   "source": [
    "print(\"Hello World\")"
   ]
  },
  {
   "cell_type": "code",
   "execution_count": 15,
   "id": "777fb047-4b8f-419e-98ac-b6710c636411",
   "metadata": {},
   "outputs": [
    {
     "name": "stdout",
     "output_type": "stream",
     "text": [
      "[0, 1, 2]\n"
     ]
    },
    {
     "data": {
      "text/plain": [
       "array([0, 1, 2])"
      ]
     },
     "execution_count": 15,
     "metadata": {},
     "output_type": "execute_result"
    }
   ],
   "source": [
    "#Array\n",
    "import numpy as np\n",
    "list = [0, 1, 2]\n",
    "print(list)\n",
    "array = np.array(list)\n",
    "array\n",
    "\n"
   ]
  },
  {
   "cell_type": "code",
   "execution_count": 23,
   "id": "e3375e79-636c-4101-8a33-af7d982951c1",
   "metadata": {},
   "outputs": [
    {
     "name": "stdout",
     "output_type": "stream",
     "text": [
      "[[1 2 3]\n",
      " [4 5 6]]\n"
     ]
    }
   ],
   "source": [
    "#List to 2D Array\n",
    "list = [[1,2,3],[4,5,6]]\n",
    "list\n",
    "array_2d_matrix = np.array(list)\n",
    "print(array_2d_matrix)"
   ]
  },
  {
   "cell_type": "code",
   "execution_count": 26,
   "id": "dfd1928e-4bc7-4c94-b6c9-2094c974059d",
   "metadata": {},
   "outputs": [
    {
     "data": {
      "text/plain": [
       "array([-1,  0,  1])"
      ]
     },
     "execution_count": 26,
     "metadata": {},
     "output_type": "execute_result"
    }
   ],
   "source": [
    "#Tuple to Array \n",
    "my_tuple = (-1,0,1)\n",
    "my_array = np.array(my_tuple) \n",
    "my_array\n"
   ]
  },
  {
   "cell_type": "code",
   "execution_count": 29,
   "id": "a89578f4-2c2e-4ab3-948b-8b6980b74fa7",
   "metadata": {},
   "outputs": [],
   "source": [
    "#\n",
    "#\n",
    "#ARRAY CREATION USING Numpy's Built In Methods\n",
    "#\n",
    "#"
   ]
  },
  {
   "cell_type": "code",
   "execution_count": 33,
   "id": "02e2493c-de94-49ab-8c13-2c2c711d0da1",
   "metadata": {
    "collapsed": true,
    "jupyter": {
     "outputs_hidden": true,
     "source_hidden": true
    }
   },
   "outputs": [
    {
     "data": {
      "text/plain": [
       "' arange()\\n\\n* arange() is very much similar to Python function range() <br>\\n* Syntax: arange([start,] stop[, step,], dtype=None) <br>\\n* Return evenly spaced values within a given interval. <br>\\n\\n*Press shift+tab for the documentation.*'"
      ]
     },
     "execution_count": 33,
     "metadata": {},
     "output_type": "execute_result"
    }
   ],
   "source": [
    "''' arange()\n",
    "\n",
    "* arange() is very much similar to Python function range() \n",
    "* Syntax: arange([start,] stop[, step,], dtype=None) \n",
    "* Return evenly spaced values within a given interval.\n",
    "\n",
    "*Press shift+tab for the documentation.*'''"
   ]
  },
  {
   "cell_type": "code",
   "execution_count": 5,
   "id": "4ae89ff5-9c6a-4892-bdd1-72595191445a",
   "metadata": {},
   "outputs": [
    {
     "data": {
      "text/plain": [
       "(array([ 9.        ,  9.31578947,  9.63157895,  9.94736842, 10.26315789,\n",
       "        10.57894737, 10.89473684, 11.21052632, 11.52631579, 11.84210526,\n",
       "        12.15789474, 12.47368421, 12.78947368, 13.10526316, 13.42105263,\n",
       "        13.73684211, 14.05263158, 14.36842105, 14.68421053, 15.        ]),\n",
       " 0.3157894736842105)"
      ]
     },
     "execution_count": 5,
     "metadata": {},
     "output_type": "execute_result"
    }
   ],
   "source": [
    "#linespace() => Return evenly spaced numbers over a specified interval.\n",
    "import numpy as np\n",
    "my_linspace = np.linspace(9, 15, 20, retstep=True)\n",
    "my_linspace"
   ]
  },
  {
   "cell_type": "code",
   "execution_count": null,
   "id": "4b269e9f-b4dc-404c-afc4-c4ea45ad7819",
   "metadata": {},
   "outputs": [],
   "source": []
  }
 ],
 "metadata": {
  "kernelspec": {
   "display_name": "Python 3 (ipykernel)",
   "language": "python",
   "name": "python3"
  },
  "language_info": {
   "codemirror_mode": {
    "name": "ipython",
    "version": 3
   },
   "file_extension": ".py",
   "mimetype": "text/x-python",
   "name": "python",
   "nbconvert_exporter": "python",
   "pygments_lexer": "ipython3",
   "version": "3.12.7"
  }
 },
 "nbformat": 4,
 "nbformat_minor": 5
}
