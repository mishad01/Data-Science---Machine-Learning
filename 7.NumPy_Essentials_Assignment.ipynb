{
  "cells": [
    {
      "cell_type": "markdown",
      "metadata": {
        "id": "view-in-github",
        "colab_type": "text"
      },
      "source": [
        "<a href=\"https://colab.research.google.com/github/mishad01/Data-Science-Machine-Learning/blob/main/7.NumPy_Essentials_Assignment.ipynb\" target=\"_parent\"><img src=\"https://colab.research.google.com/assets/colab-badge.svg\" alt=\"Open In Colab\"/></a>"
      ]
    },
    {
      "cell_type": "markdown",
      "metadata": {
        "id": "XPOOMX-tw0OW"
      },
      "source": [
        "# NumPy Essentials Practice Exercises Overview:\n",
        "Time to test the knowledge on NumPy. Lets start with simple task and move on to more challenging ones!<br>\n",
        "**Good Luck**<br>\n",
        "\n",
        "&#9758; *Please note, there are several ways to get the required output, so your code could be different then what is provided in this notebook. <br>As long as you are getting the tasks done, it is fine at this stage. *"
      ]
    },
    {
      "cell_type": "markdown",
      "metadata": {
        "id": "ObZCoVmqw0OZ"
      },
      "source": [
        "**1. What is the major difference between \"`Vector`\" and \"`Matrix`\"?**"
      ]
    },
    {
      "cell_type": "markdown",
      "source": [
        "A vector is one dimensional array of numbers. It represents as row or column.<br>\n",
        "Example :  \n",
        "Row Vector, V = [1, 2, 3]<br>\n",
        "|1| = V, 90Column Vector<br>\n",
        "|2|<br>\n",
        "|3|<br>\n",
        "\n",
        "\n",
        "#Matrix\n",
        "A matrix is a two dimensional array of numbers arranges in rows and columns.<br>\n",
        "Example :<br>\n",
        "|1,2,3|<br>\n",
        "|4,5,6|<br>\n",
        "\n",
        "#Summary of Differences:\n",
        "A vector is 1D (either a row or column).<br>\n",
        "A matrix is 2D (multiple rows and columns).\n"
      ],
      "metadata": {
        "id": "WuUIJcWYw9kS"
      }
    },
    {
      "cell_type": "markdown",
      "metadata": {
        "id": "VGhBj-Afw0Oa"
      },
      "source": [
        "**2. How to import `NumPy` library?**"
      ]
    },
    {
      "cell_type": "code",
      "execution_count": null,
      "metadata": {
        "collapsed": true,
        "id": "xOiIC1vKw0Ob"
      },
      "outputs": [],
      "source": [
        "import numpy as np"
      ]
    },
    {
      "cell_type": "markdown",
      "metadata": {
        "id": "Qj7qg7X7w0Ob"
      },
      "source": [
        "**3. Convert the given Python list into NumPy array and check its data type**"
      ]
    },
    {
      "cell_type": "code",
      "execution_count": null,
      "metadata": {
        "collapsed": true,
        "id": "is7gwLNZw0Ob"
      },
      "outputs": [],
      "source": [
        "list_1 = [1,2,3,4,5]"
      ]
    },
    {
      "cell_type": "code",
      "execution_count": 9,
      "metadata": {
        "colab": {
          "base_uri": "https://localhost:8080/"
        },
        "id": "bhM2R-H5w0Ob",
        "outputId": "ab438337-f01d-47c2-f37e-d1f38e7219a1"
      },
      "outputs": [
        {
          "output_type": "stream",
          "name": "stdout",
          "text": [
            "[1 2 3 4 5]\n"
          ]
        }
      ],
      "source": [
        "import numpy as np\n",
        "\n",
        "list_1 = np.array(list_1)\n",
        "print(list_1)"
      ]
    },
    {
      "cell_type": "markdown",
      "metadata": {
        "id": "IZOfqltmw0Oc"
      },
      "source": [
        "**4. Generate `array [0,1,2,3,4,5]` using NumPy built-in function, `arange()`**"
      ]
    },
    {
      "cell_type": "code",
      "execution_count": 10,
      "metadata": {
        "collapsed": true,
        "colab": {
          "base_uri": "https://localhost:8080/"
        },
        "id": "fYTICjJvw0Oc",
        "outputId": "4898eba8-abcf-436c-bc21-da5eb355964e"
      },
      "outputs": [
        {
          "output_type": "execute_result",
          "data": {
            "text/plain": [
              "array([0, 1, 2, 3, 4, 5])"
            ]
          },
          "metadata": {},
          "execution_count": 10
        }
      ],
      "source": [
        "np.arange(0,6)"
      ]
    },
    {
      "cell_type": "markdown",
      "metadata": {
        "id": "jvJT20jIw0Od"
      },
      "source": [
        "**5. Generate an `array of \"5\" zeros` **"
      ]
    },
    {
      "cell_type": "code",
      "execution_count": 13,
      "metadata": {
        "colab": {
          "base_uri": "https://localhost:8080/"
        },
        "id": "HewFp6Bbw0Od",
        "outputId": "dbfcd725-e890-4411-c677-20985069e385"
      },
      "outputs": [
        {
          "output_type": "execute_result",
          "data": {
            "text/plain": [
              "array([0., 0., 0., 0., 0.])"
            ]
          },
          "metadata": {},
          "execution_count": 13
        }
      ],
      "source": [
        "zero_array = np.empty (5)\n",
        "zero_array.fill(0)\n",
        "zero_array"
      ]
    },
    {
      "cell_type": "markdown",
      "metadata": {
        "id": "hkebQEQfw0Od"
      },
      "source": [
        "**6. Generate the following `matrix`.**"
      ]
    },
    {
      "cell_type": "code",
      "execution_count": null,
      "metadata": {
        "collapsed": true,
        "id": "iGhWEiuVw0Od"
      },
      "outputs": [],
      "source": [
        "# To avoid overwriting the output, please code here"
      ]
    },
    {
      "cell_type": "code",
      "execution_count": 18,
      "metadata": {
        "colab": {
          "base_uri": "https://localhost:8080/"
        },
        "id": "EJjt_jaSw0Od",
        "outputId": "a1235629-124a-428e-aef6-7f381ddc7d06"
      },
      "outputs": [
        {
          "output_type": "execute_result",
          "data": {
            "text/plain": [
              "array([[0., 0., 0., 0.],\n",
              "       [0., 0., 0., 0.],\n",
              "       [0., 0., 0., 0.]])"
            ]
          },
          "metadata": {},
          "execution_count": 18
        }
      ],
      "source": [
        "matrix = np.empty(12)\n",
        "matrix.fill(0)\n",
        "matrix = matrix.reshape(3,4)\n",
        "matrix"
      ]
    },
    {
      "cell_type": "markdown",
      "metadata": {
        "id": "MJVICRjDw0Od"
      },
      "source": [
        "**7. Generate** `[1.,1.,1.,1.,1.]` **using NumPy built-in function?**"
      ]
    },
    {
      "cell_type": "code",
      "execution_count": null,
      "metadata": {
        "collapsed": true,
        "id": "qZEuwIDzw0Oe"
      },
      "outputs": [],
      "source": [
        "# To avoid overwriting the output, please code here"
      ]
    },
    {
      "cell_type": "code",
      "execution_count": 22,
      "metadata": {
        "colab": {
          "base_uri": "https://localhost:8080/"
        },
        "id": "mY9xRegFw0Oe",
        "outputId": "01844024-a831-48d0-809a-d51c664401ba"
      },
      "outputs": [
        {
          "output_type": "execute_result",
          "data": {
            "text/plain": [
              "array([1., 1., 1., 1., 1.])"
            ]
          },
          "metadata": {},
          "execution_count": 22
        }
      ],
      "source": [
        "arr = np.linspace(1,1,5)\n",
        "arr"
      ]
    },
    {
      "cell_type": "markdown",
      "metadata": {
        "id": "DzBSANJPw0Oe"
      },
      "source": [
        "**8. Generate an array of \"5\" tens.**"
      ]
    },
    {
      "cell_type": "code",
      "execution_count": 27,
      "metadata": {
        "collapsed": true,
        "id": "CV1hVEi2w0Oe"
      },
      "outputs": [],
      "source": [
        "arr = np.full(5,10)"
      ]
    },
    {
      "cell_type": "markdown",
      "metadata": {
        "id": "hEx29UGbw0Oe"
      },
      "source": [
        "**9. Use `arange()` to generate an array of even numbers between 50 and 100.**<br>\n",
        "*50 and 100 are not included*"
      ]
    },
    {
      "cell_type": "code",
      "execution_count": 30,
      "metadata": {
        "collapsed": true,
        "colab": {
          "base_uri": "https://localhost:8080/"
        },
        "id": "LVO2G5SWw0Oe",
        "outputId": "0768b1fb-e3df-49a3-ebe4-336c695b46c7"
      },
      "outputs": [
        {
          "output_type": "execute_result",
          "data": {
            "text/plain": [
              "array([52, 54, 56, 58, 60, 62, 64, 66, 68, 70, 72, 74, 76, 78, 80, 82, 84,\n",
              "       86, 88, 90, 92, 94, 96, 98])"
            ]
          },
          "metadata": {},
          "execution_count": 30
        }
      ],
      "source": [
        "arr = np.arange(52,100,2)\n",
        "arr"
      ]
    },
    {
      "cell_type": "code",
      "execution_count": null,
      "metadata": {
        "id": "rROzXIdhw0Oe",
        "outputId": "85a331af-4a88-41e2-f6ce-0213b7f43832"
      },
      "outputs": [
        {
          "data": {
            "text/plain": [
              "array([52, 54, 56, 58, 60, 62, 64, 66, 68, 70, 72, 74, 76, 78, 80, 82, 84,\n",
              "       86, 88, 90, 92, 94, 96, 98])"
            ]
          },
          "execution_count": 18,
          "metadata": {},
          "output_type": "execute_result"
        }
      ],
      "source": []
    },
    {
      "cell_type": "markdown",
      "metadata": {
        "id": "sCcZ-1qxw0Oe"
      },
      "source": [
        "**10. Generate an array of 10 linearly spaced points between 0 and 1.**<br>\n",
        "**Output step size as well?**"
      ]
    },
    {
      "cell_type": "code",
      "execution_count": 33,
      "metadata": {
        "collapsed": true,
        "colab": {
          "base_uri": "https://localhost:8080/"
        },
        "id": "T3lfvPv3w0Of",
        "outputId": "4810cf6f-d418-404f-d846-36a9aaa3ac65"
      },
      "outputs": [
        {
          "output_type": "stream",
          "name": "stdout",
          "text": [
            "[0.         0.11111111 0.22222222 0.33333333 0.44444444 0.55555556\n",
            " 0.66666667 0.77777778 0.88888889 1.        ]\n",
            "0.1111111111111111\n"
          ]
        }
      ],
      "source": [
        "arr = np.linspace(0,1,10)\n",
        "print(arr)\n",
        "step_size = arr[1]-arr[0]\n",
        "print(step_size)"
      ]
    },
    {
      "cell_type": "code",
      "execution_count": null,
      "metadata": {
        "id": "Qs3cfvQ9w0Of",
        "outputId": "e61d291d-8577-4717-ce55-9f64c6a309a5"
      },
      "outputs": [
        {
          "data": {
            "text/plain": [
              "(array([ 0.        ,  0.11111111,  0.22222222,  0.33333333,  0.44444444,\n",
              "         0.55555556,  0.66666667,  0.77777778,  0.88888889,  1.        ]),\n",
              " 0.1111111111111111)"
            ]
          },
          "execution_count": 20,
          "metadata": {},
          "output_type": "execute_result"
        }
      ],
      "source": []
    },
    {
      "cell_type": "markdown",
      "metadata": {
        "id": "qN44Mu8pw0Of"
      },
      "source": [
        "**11. Perform the following tasks:**\n",
        "* Generate a **`vector array of 25`** numbers using **`arange()`**\n",
        "* write a code to convert the vector array into **`2-D matrix using reshape`**\n",
        "* can we use **`shape`** instead of reshape as well?"
      ]
    },
    {
      "cell_type": "code",
      "execution_count": 34,
      "metadata": {
        "collapsed": true,
        "colab": {
          "base_uri": "https://localhost:8080/"
        },
        "id": "6yGQP99iw0Of",
        "outputId": "8620d1a7-1c02-4c43-c444-ab518d8157d1"
      },
      "outputs": [
        {
          "output_type": "execute_result",
          "data": {
            "text/plain": [
              "array([ 0,  1,  2,  3,  4,  5,  6,  7,  8,  9, 10, 11, 12, 13, 14, 15, 16,\n",
              "       17, 18, 19, 20, 21, 22, 23, 24])"
            ]
          },
          "metadata": {},
          "execution_count": 34
        }
      ],
      "source": [
        "arr = np.arange(25)\n",
        "arr"
      ]
    },
    {
      "cell_type": "code",
      "execution_count": null,
      "metadata": {
        "scrolled": true,
        "id": "c8dsVqUUw0Of",
        "outputId": "b8b2b4e4-c451-428c-fe64-e4dbf3316337"
      },
      "outputs": [
        {
          "data": {
            "text/plain": [
              "array([ 0,  1,  2,  3,  4,  5,  6,  7,  8,  9, 10, 11, 12, 13, 14, 15, 16,\n",
              "       17, 18, 19, 20, 21, 22, 23, 24])"
            ]
          },
          "execution_count": 22,
          "metadata": {},
          "output_type": "execute_result"
        }
      ],
      "source": [
        "# Generating vector array"
      ]
    },
    {
      "cell_type": "code",
      "execution_count": 35,
      "metadata": {
        "collapsed": true,
        "colab": {
          "base_uri": "https://localhost:8080/"
        },
        "id": "tWsTgA8Zw0Of",
        "outputId": "d82770c3-1aec-4639-e835-4dc0baba3bd0"
      },
      "outputs": [
        {
          "output_type": "execute_result",
          "data": {
            "text/plain": [
              "array([[ 0,  1,  2,  3,  4],\n",
              "       [ 5,  6,  7,  8,  9],\n",
              "       [10, 11, 12, 13, 14],\n",
              "       [15, 16, 17, 18, 19],\n",
              "       [20, 21, 22, 23, 24]])"
            ]
          },
          "metadata": {},
          "execution_count": 35
        }
      ],
      "source": [
        "arr.reshape(5,5)"
      ]
    },
    {
      "cell_type": "code",
      "execution_count": null,
      "metadata": {
        "scrolled": true,
        "id": "VQTJpApGw0Og",
        "outputId": "b814aa52-2848-40d2-de24-b34d46a41474"
      },
      "outputs": [
        {
          "data": {
            "text/plain": [
              "array([[ 0,  1,  2,  3,  4],\n",
              "       [ 5,  6,  7,  8,  9],\n",
              "       [10, 11, 12, 13, 14],\n",
              "       [15, 16, 17, 18, 19],\n",
              "       [20, 21, 22, 23, 24]])"
            ]
          },
          "execution_count": 24,
          "metadata": {},
          "output_type": "execute_result"
        }
      ],
      "source": [
        "# reshape to convert into 2-d"
      ]
    },
    {
      "cell_type": "code",
      "execution_count": 37,
      "metadata": {
        "collapsed": true,
        "colab": {
          "base_uri": "https://localhost:8080/"
        },
        "id": "bPA-qKU-w0Og",
        "outputId": "f1a18d35-204c-421d-9d89-32ff442333fe"
      },
      "outputs": [
        {
          "output_type": "execute_result",
          "data": {
            "text/plain": [
              "array([[ 0,  1,  2,  3,  4],\n",
              "       [ 5,  6,  7,  8,  9],\n",
              "       [10, 11, 12, 13, 14],\n",
              "       [15, 16, 17, 18, 19],\n",
              "       [20, 21, 22, 23, 24]])"
            ]
          },
          "metadata": {},
          "execution_count": 37
        }
      ],
      "source": [
        "arr.shape = (5,5)\n",
        "arr"
      ]
    },
    {
      "cell_type": "code",
      "execution_count": null,
      "metadata": {
        "scrolled": true,
        "id": "_B12nEnOw0Og",
        "outputId": "6f9af6cd-eea4-4fa9-b74f-f4a509eeee5e"
      },
      "outputs": [
        {
          "data": {
            "text/plain": [
              "array([[ 0,  1,  2,  3,  4],\n",
              "       [ 5,  6,  7,  8,  9],\n",
              "       [10, 11, 12, 13, 14],\n",
              "       [15, 16, 17, 18, 19],\n",
              "       [20, 21, 22, 23, 24]])"
            ]
          },
          "execution_count": 26,
          "metadata": {},
          "output_type": "execute_result"
        }
      ],
      "source": [
        "# Using shape"
      ]
    },
    {
      "cell_type": "markdown",
      "metadata": {
        "id": "iUCqSqecw0Og"
      },
      "source": [
        "**12. Please generate the following matrix.**"
      ]
    },
    {
      "cell_type": "code",
      "execution_count": 44,
      "metadata": {
        "collapsed": true,
        "colab": {
          "base_uri": "https://localhost:8080/"
        },
        "id": "ih9dyKWXw0Og",
        "outputId": "1797b9c0-091c-46d0-a112-715c71ffcb72"
      },
      "outputs": [
        {
          "output_type": "execute_result",
          "data": {
            "text/plain": [
              "array([[0.1, 0.2, 0.3, 0.4, 0.5],\n",
              "       [0.6, 0.7, 0.8, 0.9, 1. ],\n",
              "       [1.1, 1.2, 1.3, 1.4, 1.5],\n",
              "       [1.6, 1.7, 1.8, 1.9, 2. ],\n",
              "       [2.1, 2.2, 2.3, 2.4, 2.5]])"
            ]
          },
          "metadata": {},
          "execution_count": 44
        }
      ],
      "source": [
        "arr = np.arange(0.1,2.6,0.1)\n",
        "arr.reshape(5,5)"
      ]
    },
    {
      "cell_type": "code",
      "execution_count": null,
      "metadata": {
        "scrolled": false,
        "id": "4-EuF4k7w0Oh",
        "outputId": "585b5b0b-bdd5-4a64-cf83-14318441c1da"
      },
      "outputs": [
        {
          "data": {
            "text/plain": [
              "array([[0.1, 0.2, 0.3, 0.4, 0.5],\n",
              "       [0.6, 0.7, 0.8, 0.9, 1. ],\n",
              "       [1.1, 1.2, 1.3, 1.4, 1.5],\n",
              "       [1.6, 1.7, 1.8, 1.9, 2. ],\n",
              "       [2.1, 2.2, 2.3, 2.4, 2.5]])"
            ]
          },
          "execution_count": 14,
          "metadata": {},
          "output_type": "execute_result"
        }
      ],
      "source": []
    },
    {
      "cell_type": "markdown",
      "metadata": {
        "id": "CdVWtIbxw0Oh"
      },
      "source": [
        "**13. Write a code to generate the output below, use \"`linspace()`\" and \"`print()`\"**"
      ]
    },
    {
      "cell_type": "code",
      "execution_count": 54,
      "metadata": {
        "collapsed": true,
        "colab": {
          "base_uri": "https://localhost:8080/"
        },
        "id": "IZbVbzyfw0Oh",
        "outputId": "deb5add0-56e7-424b-f551-b955441e867f"
      },
      "outputs": [
        {
          "output_type": "execute_result",
          "data": {
            "text/plain": [
              "array([[ 0,  1,  2,  3,  4],\n",
              "       [ 5,  6,  7,  8,  9],\n",
              "       [10, 11, 12, 13, 14],\n",
              "       [15, 16, 17, 18, 19],\n",
              "       [20, 21, 22, 23, 24]])"
            ]
          },
          "metadata": {},
          "execution_count": 54
        }
      ],
      "source": [
        "arr = np.linspace(0,24,25,dtype=int)\n",
        "arr = arr.reshape(5,5)\n",
        "arr"
      ]
    },
    {
      "cell_type": "markdown",
      "metadata": {
        "id": "JgIpV7nlw0Oi"
      },
      "source": [
        "**14. What is the main difference between `linspace()` and `arange()`?**"
      ]
    },
    {
      "cell_type": "code",
      "execution_count": null,
      "metadata": {
        "collapsed": true,
        "id": "YoPufpXNw0Oi"
      },
      "outputs": [],
      "source": [
        "# Please consult the lectures.\n",
        "# arange() takes 3rd argument as step size.\n",
        "# linspace() take 3rd argument as no of point we want."
      ]
    },
    {
      "cell_type": "markdown",
      "metadata": {
        "id": "viNI3Dufw0Oi"
      },
      "source": [
        "**15. How to generate a single random integer number using NumPy built-in function?**"
      ]
    },
    {
      "cell_type": "code",
      "execution_count": 58,
      "metadata": {
        "collapsed": true,
        "colab": {
          "base_uri": "https://localhost:8080/"
        },
        "id": "qqCX-sfCw0Oi",
        "outputId": "d5b1e0dc-5801-473e-a365-d564945a79df"
      },
      "outputs": [
        {
          "output_type": "execute_result",
          "data": {
            "text/plain": [
              "array([4, 9, 8, 3, 2])"
            ]
          },
          "metadata": {},
          "execution_count": 58
        }
      ],
      "source": [
        "ran = np.random.randint(0,10,5)\n",
        "ran"
      ]
    },
    {
      "cell_type": "code",
      "execution_count": null,
      "metadata": {
        "id": "6hE97_wsw0Oi"
      },
      "outputs": [],
      "source": []
    },
    {
      "cell_type": "markdown",
      "metadata": {
        "id": "1PmHPL8qw0Oi"
      },
      "source": [
        "**16. Write a code to generate a 7x5 matrix of 35 random numbers? use rand here** <br>\n",
        "*Notice, there are no ( ) in the output matrix!*"
      ]
    },
    {
      "cell_type": "code",
      "execution_count": 66,
      "metadata": {
        "collapsed": true,
        "colab": {
          "base_uri": "https://localhost:8080/"
        },
        "id": "_S43OYm8w0Oi",
        "outputId": "1ae8f2ab-26e1-46ea-e7a6-12ba92b8a11f"
      },
      "outputs": [
        {
          "output_type": "execute_result",
          "data": {
            "text/plain": [
              "array([[0.10526073, 0.0245383 , 0.34646374, 0.42210203, 0.84117667],\n",
              "       [0.54221582, 0.82377044, 0.8287486 , 0.6782069 , 0.39370263],\n",
              "       [0.91385108, 0.48945021, 0.4257851 , 0.69259078, 0.11480744],\n",
              "       [0.08823322, 0.60499675, 0.50741154, 0.91185369, 0.66140752],\n",
              "       [0.94612489, 0.48185364, 0.29044414, 0.84467375, 0.39415406],\n",
              "       [0.31549328, 0.81245177, 0.61138833, 0.30291354, 0.03030184],\n",
              "       [0.48211219, 0.26542853, 0.35135966, 0.92083621, 0.69834675]])"
            ]
          },
          "metadata": {},
          "execution_count": 66
        }
      ],
      "source": [
        "arr = np.random.rand(7,5)\n",
        "arr"
      ]
    },
    {
      "cell_type": "code",
      "execution_count": null,
      "metadata": {
        "id": "TqRqiAsww0Oi",
        "outputId": "989834a3-172f-45c9-a09e-75b677b21bbb"
      },
      "outputs": [
        {
          "name": "stdout",
          "output_type": "stream",
          "text": [
            "[[ 0.99598801  0.07546767  0.17484793  0.25229956  0.4693597 ]\n",
            " [ 0.5591561   0.5007227   0.93630239  0.48747691  0.78658124]\n",
            " [ 0.98923838  0.04124599  0.71326198  0.51252888  0.36130539]\n",
            " [ 0.11558779  0.52914213  0.31134907  0.8047612   0.25759207]\n",
            " [ 0.87331331  0.77104413  0.960445    0.1732589   0.83339285]\n",
            " [ 0.99839604  0.78268012  0.66487603  0.14509928  0.05670129]\n",
            " [ 0.15932364  0.848172    0.51343887  0.06309231  0.29250649]]\n"
          ]
        }
      ],
      "source": []
    },
    {
      "cell_type": "markdown",
      "metadata": {
        "id": "UKzx5Thjw0Oi"
      },
      "source": [
        "**17. Generate the following matrix using NumPy's built-in method for\n",
        "identity matrix.**"
      ]
    },
    {
      "cell_type": "code",
      "execution_count": 67,
      "metadata": {
        "collapsed": true,
        "colab": {
          "base_uri": "https://localhost:8080/"
        },
        "id": "SyJJQKHUw0Oi",
        "outputId": "52c80f21-7248-4a84-a15c-62512da4e826"
      },
      "outputs": [
        {
          "output_type": "execute_result",
          "data": {
            "text/plain": [
              "array([[5., 0., 0., 0., 0.],\n",
              "       [0., 5., 0., 0., 0.],\n",
              "       [0., 0., 5., 0., 0.],\n",
              "       [0., 0., 0., 5., 0.],\n",
              "       [0., 0., 0., 0., 5.]])"
            ]
          },
          "metadata": {},
          "execution_count": 67
        }
      ],
      "source": [
        "arr = 5*np.identity(5)\n",
        "arr"
      ]
    },
    {
      "cell_type": "code",
      "execution_count": null,
      "metadata": {
        "id": "D5KtdFiKw0Oj",
        "outputId": "8690fcd1-130d-4553-b910-f2875534dd4a"
      },
      "outputs": [
        {
          "data": {
            "text/plain": [
              "array([[5., 0., 0., 0., 0.],\n",
              "       [0., 5., 0., 0., 0.],\n",
              "       [0., 0., 5., 0., 0.],\n",
              "       [0., 0., 0., 5., 0.],\n",
              "       [0., 0., 0., 0., 5.]])"
            ]
          },
          "execution_count": 30,
          "metadata": {},
          "output_type": "execute_result"
        }
      ],
      "source": []
    },
    {
      "cell_type": "markdown",
      "metadata": {
        "collapsed": true,
        "id": "mDOBmb2aw0Oj"
      },
      "source": [
        "### You must be feeling comfortable using NumPy now!\n",
        "# Great Job and Good Luck"
      ]
    }
  ],
  "metadata": {
    "kernelspec": {
      "display_name": "Python 3 (ipykernel)",
      "language": "python",
      "name": "python3"
    },
    "language_info": {
      "codemirror_mode": {
        "name": "ipython",
        "version": 3
      },
      "file_extension": ".py",
      "mimetype": "text/x-python",
      "name": "python",
      "nbconvert_exporter": "python",
      "pygments_lexer": "ipython3",
      "version": "3.11.5"
    },
    "colab": {
      "provenance": [],
      "include_colab_link": true
    }
  },
  "nbformat": 4,
  "nbformat_minor": 0
}